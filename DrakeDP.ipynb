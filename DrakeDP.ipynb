{
 "cells": [
  {
   "cell_type": "code",
   "execution_count": 1,
   "id": "5ce14f36",
   "metadata": {},
   "outputs": [
    {
     "name": "stderr",
     "output_type": "stream",
     "text": [
      "bash: line 2: cd: /DrakeDP: No such file or directory\n"
     ]
    },
    {
     "name": "stdout",
     "output_type": "stream",
     "text": [
      "There's no requiremnts.txt, so nothing to install. This is the case with most projects.\n"
     ]
    }
   ],
   "source": [
    "%%bash\n",
    "\n",
    "cd /DrakeDP\n",
    "if test -f requirements.txt\n",
    "    then\n",
    "    sed -i '/jedi/d;/jupyter/d;' ./requirements.txt\n",
    "    pip install -r ./requirements.txt \"pyzmq<25.0.0\"\n",
    "    else echo \"There's no requiremnts.txt, so nothing to install. This is the case with most projects.\"\n",
    "fi\n"
   ]
  },
  {
   "cell_type": "code",
   "execution_count": 2,
   "id": "caf55616",
   "metadata": {},
   "outputs": [],
   "source": [
    "import numpy as np\n",
    "from pydrake.all import (\n",
    "    AddMultibodyPlantSceneGraph,\n",
    "    DiagramBuilder,\n",
    "    LinearQuadraticRegulator,\n",
    "    plot_system_graphviz,\n",
    "    LogVectorOutput,\n",
    "    PidController,\n",
    "    MeshcatVisualizer,\n",
    "    ModelVisualizer,\n",
    "    Parser,\n",
    "    Simulator,\n",
    "    StartMeshcat,\n",
    ")\n",
    "\n"
   ]
  },
  {
   "cell_type": "code",
   "execution_count": 3,
   "id": "b9990987",
   "metadata": {},
   "outputs": [
    {
     "name": "stderr",
     "output_type": "stream",
     "text": [
      "INFO:drake:Meshcat listening for connections at http://localhost:7000\n"
     ]
    }
   ],
   "source": [
    "meshcat=StartMeshcat()"
   ]
  },
  {
   "cell_type": "code",
   "execution_count": 4,
   "id": "0b4c5316",
   "metadata": {},
   "outputs": [],
   "source": [
    "#Leafsystem or as symbolicvectorsystem dynamics as (xd=f(x))\n",
    "builder=DiagramBuilder()\n",
    "\n",
    "#instantiate double pendulum and scene_graph (container for geometries of all physical systems)\n",
    "double_pendulum, scene_graph = AddMultibodyPlantSceneGraph(\n",
    "    builder,\n",
    "    time_step=0.0,\n",
    ")\n",
    "Parser(double_pendulum).AddModels(\"DoublePendulum.urdf\") #AddModels() works for locally stored files\n",
    "double_pendulum.Finalize()\n",
    "double_pendulum.set_name(\"DoublePendulum\") "
   ]
  },
  {
   "cell_type": "markdown",
   "id": "086597ab",
   "metadata": {},
   "source": [
    "For this problem and URDF, the z axis is vertical and x axis horizontal with y axis going into the page. Theta1 at 0 is hanging down and theta 2 at 0 is upright."
   ]
  },
  {
   "cell_type": "code",
   "execution_count": 5,
   "id": "6bf6def6",
   "metadata": {},
   "outputs": [],
   "source": [
    "xequilibrium = np.array([np.pi, 0, 0.0, 0.0])  # upright Equilibrium state: [theta1, theta2, theta1_dot, theta2_dot]"
   ]
  },
  {
   "cell_type": "markdown",
   "id": "6e593322",
   "metadata": {},
   "source": [
    "#Double check your URDF file is loaded correctly\n",
    "with open(\"DoublePendulum.urdf\", \"r\") as f:\n",
    "    urdf_contents = f.read()\n",
    "print(urdf_contents)"
   ]
  },
  {
   "cell_type": "code",
   "execution_count": null,
   "id": "042eef6b",
   "metadata": {},
   "outputs": [],
   "source": [
    "def double_pendulum_balancing(xequilibrium, Q, R):\n",
    "    context = double_pendulum.CreateDefaultContext()\n",
    "    context.get_mutable_continuous_state_vector().SetFromVector(xequilibrium)  # Set the initial state to the equilibrium state for now\n",
    "    double_pendulum.get_actuation_input_port().FixValue(context, np.zeros(2))  # Fix the input to zero for now, based on # of\n",
    "\n",
    "    lqr = LinearQuadraticRegulator(\n",
    "        double_pendulum,\n",
    "        context,\n",
    "        Q,\n",
    "        R,\n",
    "        input_port_index=double_pendulum.get_actuation_input_port().get_index(), \n",
    "    )\n",
    "\n",
    "    lqr = builder.AddSystem(lqr)\n",
    "    builder.Connect(double_pendulum.get_state_output_port(), lqr.get_input_port(0)) \n",
    "    builder.Connect(lqr.get_output_port(0), double_pendulum.get_actuation_input_port())\n",
    "\n",
    "    actuation_logger = LogVectorOutput(lqr.get_output_port(), builder)\n",
    "    state_logger = LogVectorOutput(double_pendulum.get_state_output_port(), builder)\n",
    "    visualizer = MeshcatVisualizer.AddToBuilder(builder, scene_graph, meshcat)\n",
    "    visualizer.set_name(\"visualizer\")\n",
    "\n",
    "    diagram = builder.Build()\n",
    "\n",
    "    #how do you make this thing kill itself?--> you don't, every time builder=DiagramBuilder() is called a new diagram is created so you just rerun the cell. \n",
    "    #plot_system_graphviz(diagram)\n",
    "    #Extract eoms\n",
    "    return diagram, actuation_logger, state_logger\n"
   ]
  },
  {
   "cell_type": "code",
   "execution_count": 7,
   "id": "511825c7",
   "metadata": {},
   "outputs": [],
   "source": [
    "def simulate_and_animate(diagram, xstart, alogger, slogger, sim_time=5.0, visualize=True):\n",
    "    simulator = Simulator(diagram)\n",
    "    simulator.set_publish_every_time_step(False)\n",
    "    simulator.get_mutable_integrator().set_fixed_step_mode(True)\n",
    "\n",
    "    visualizer=diagram.GetSubsystemByName(\"visualizer\")\n",
    "    visualizer.StartRecording(False)\n",
    "\n",
    "    if len(xstart) != diagram.GetSubsystemByName(\"DoublePendulum\").num_continuous_states():\n",
    "        print (f\"Your plant doesn't have {len(xstart)} state variables.\")\n",
    "        return  \n",
    "    \n",
    "    # reset initial conditions\n",
    "    context = simulator.get_mutable_context()\n",
    "    context.SetTime(0.0)\n",
    "    context.SetContinuousState(xstart)\n",
    "\n",
    "    # run sim\n",
    "    simulator.Initialize()\n",
    "    simulator.AdvanceTo(sim_time)\n",
    "    \n",
    "    # stop video\n",
    "    visualizer.PublishRecording()\n",
    "    visualizer.DeleteRecording()\n",
    "\n",
    "    # access logged data\n",
    "    alog = alogger.FindLog(context)\n",
    "    slog = slogger.FindLog(context)\n",
    "    return alog, slog"
   ]
  },
  {
   "cell_type": "code",
   "execution_count": 8,
   "id": "31834b47",
   "metadata": {},
   "outputs": [],
   "source": [
    "# LQR for double pendulum balancing\n",
    "Q = np.diag([10.0, 10.0, 1.0, 1.0])  # State cost matrix\n",
    "R = np.eye(2)\n",
    "xstart = np.array([np.pi, -np.pi/2, 0.0, 0.0])  # Initial state: [theta1, theta2, theta1_dot, theta2_dot]\n",
    "diagram, actuation_logger, state_logger = double_pendulum_balancing(xequilibrium, Q, R)\n",
    "\n"
   ]
  },
  {
   "cell_type": "code",
   "execution_count": 9,
   "id": "70488199",
   "metadata": {},
   "outputs": [
    {
     "name": "stdout",
     "output_type": "stream",
     "text": [
      "(2, 385)\n",
      "(4, 385)\n",
      "[30.45044461 31.94282604]\n",
      "[27.63716689 29.93937616]\n",
      "[25.13623906 28.04316084]\n",
      "[22.94645158 26.25212641]\n",
      "[21.05692256 24.56143498]\n",
      "[19.44983864 22.96434806]\n",
      "[18.10281125 21.45302355]\n",
      "[16.99080475 20.01919658]\n",
      "[16.08764019 18.65473642]\n",
      "[15.36710933 17.35208536]\n",
      "[ 3.14158887e+00 -1.56880169e-06  8.55839952e-06  3.54492680e-06]\n"
     ]
    }
   ],
   "source": [
    "a_log, s_log = simulate_and_animate(diagram, xstart, actuation_logger, state_logger, sim_time=6.0, visualize=True)\n",
    "#log.sample_times()\n",
    "u=a_log.data()\n",
    "x=s_log.data()\n",
    "print(u.shape)\n",
    "print(x.shape)\n",
    "for i in range(10):\n",
    "    print(u[:,i])\n",
    "    #print(x[:,-i])\n",
    "     #looking at the logs max actuation is 32Nm (without real masses, but also no contact, which is why theta1 is high too.)\n",
    "print(x[:,-1]) #initial state"
   ]
  },
  {
   "cell_type": "code",
   "execution_count": null,
   "id": "0bcb68b9",
   "metadata": {},
   "outputs": [],
   "source": []
  }
 ],
 "metadata": {
  "kernelspec": {
   "display_name": "DrakeProjects (3.12.3)",
   "language": "python",
   "name": "python3"
  },
  "language_info": {
   "codemirror_mode": {
    "name": "ipython",
    "version": 3
   },
   "file_extension": ".py",
   "mimetype": "text/x-python",
   "name": "python",
   "nbconvert_exporter": "python",
   "pygments_lexer": "ipython3",
   "version": "3.12.3"
  }
 },
 "nbformat": 4,
 "nbformat_minor": 5
}
